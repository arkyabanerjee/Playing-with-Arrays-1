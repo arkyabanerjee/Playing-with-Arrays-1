{
 "cells": [
  {
   "cell_type": "code",
   "execution_count": 1,
   "id": "8637123a-4220-4c44-b5b8-0e8928f866dd",
   "metadata": {},
   "outputs": [
    {
     "name": "stdout",
     "output_type": "stream",
     "text": [
      "Array has two elements with the given sum\n"
     ]
    }
   ],
   "source": [
    "##Program to check whether there are elements inside an array whose sum is equals to the sum of the array\n",
    "##Using quick sort and two pointers technique\n",
    "def hasArrayTwoCandidates(A, arr_size, sum):\n",
    "    ##Sort the array \n",
    "    quicksort(A, 0, arr_size-1)\n",
    "    l = 0\n",
    "    r = arr_size-1\n",
    "    ##Traverse the array for the two elements\n",
    "    while l<r:\n",
    "        if(A[l] + A[r] == sum):\n",
    "            return 1\n",
    "        elif(A[l] + A[r] < sum):\n",
    "            l += 1\n",
    "        else:\n",
    "            r -= 1\n",
    "##Implementing the function of quicksort \n",
    "## where si is the start of the array and zi is the end of the array\n",
    "def quicksort(A, si, zi):\n",
    "        if si < zi:\n",
    "            pi = partition(A, si, zi)\n",
    "            quicksort(A, si, pi-1)\n",
    "            quicksort(A, pi+1, zi)\n",
    "##Utility function to partition the array in the quick sort\n",
    "def partition(A, si, zi):\n",
    "        x = A[zi]\n",
    "        i = si - 1\n",
    "        for j in range(si, zi):\n",
    "            if A[j] <= x:\n",
    "                i += 1\n",
    "                ##this operation is used to swap two variables in python\n",
    "                A[i], A[j] = A[j], A[i]\n",
    "            A[i + 1], A[zi] = A[zi], A[i + 1]\n",
    "        return i + 1\n",
    "##Driver Program to test the function\n",
    "A = [1, 4, 45, 6, 10, -8]\n",
    "n = 16\n",
    "if (hasArrayTwoCandidates(A, len(A), n)):\n",
    "    print(\"Array has two elements with the given sum\")\n",
    "else:\n",
    "    print(\"Array does not has two elements with the given sum\")\n",
    "    "
   ]
  }
 ],
 "metadata": {
  "kernelspec": {
   "display_name": "Python 3 (ipykernel)",
   "language": "python",
   "name": "python3"
  },
  "language_info": {
   "codemirror_mode": {
    "name": "ipython",
    "version": 3
   },
   "file_extension": ".py",
   "mimetype": "text/x-python",
   "name": "python",
   "nbconvert_exporter": "python",
   "pygments_lexer": "ipython3",
   "version": "3.9.7"
  }
 },
 "nbformat": 4,
 "nbformat_minor": 5
}
